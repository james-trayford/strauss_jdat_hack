{
 "cells": [
  {
   "cell_type": "code",
   "execution_count": 7,
   "id": "eeefe01c-9bb8-497b-b407-cd2e3f03a9f4",
   "metadata": {},
   "outputs": [
    {
     "name": "stdout",
     "output_type": "stream",
     "text": [
      "Requirement already satisfied: imageio in /Users/james/Documents/Code/strauss_dev/venv/lib/python3.11/site-packages (2.34.1)\n",
      "Requirement already satisfied: numpy in /Users/james/Documents/Code/strauss_dev/venv/lib/python3.11/site-packages (from imageio) (1.26.3)\n",
      "Requirement already satisfied: pillow>=8.3.2 in /Users/james/Documents/Code/strauss_dev/venv/lib/python3.11/site-packages (from imageio) (10.2.0)\n",
      "\n",
      "\u001b[1m[\u001b[0m\u001b[34;49mnotice\u001b[0m\u001b[1;39;49m]\u001b[0m\u001b[39;49m A new release of pip is available: \u001b[0m\u001b[31;49m23.3.2\u001b[0m\u001b[39;49m -> \u001b[0m\u001b[32;49m24.0\u001b[0m\n",
      "\u001b[1m[\u001b[0m\u001b[34;49mnotice\u001b[0m\u001b[1;39;49m]\u001b[0m\u001b[39;49m To update, run: \u001b[0m\u001b[32;49mpip install --upgrade pip\u001b[0m\n",
      "Collecting pyffmpeg\n",
      "  Downloading pyffmpeg-2.4.2.18.1-py3-none-macosx_11_0_arm64.whl.metadata (2.6 kB)\n",
      "Downloading pyffmpeg-2.4.2.18.1-py3-none-macosx_11_0_arm64.whl (17.5 MB)\n",
      "\u001b[2K   \u001b[90m━━━━━━━━━━━━━━━━━━━━━━━━━━━━━━━━━━━━━━━━\u001b[0m \u001b[32m17.5/17.5 MB\u001b[0m \u001b[31m4.4 MB/s\u001b[0m eta \u001b[36m0:00:00\u001b[0m00:01\u001b[0m00:01\u001b[0m\n",
      "\u001b[?25hInstalling collected packages: pyffmpeg\n",
      "Successfully installed pyffmpeg-2.4.2.18.1\n",
      "\n",
      "\u001b[1m[\u001b[0m\u001b[34;49mnotice\u001b[0m\u001b[1;39;49m]\u001b[0m\u001b[39;49m A new release of pip is available: \u001b[0m\u001b[31;49m23.3.2\u001b[0m\u001b[39;49m -> \u001b[0m\u001b[32;49m24.0\u001b[0m\n",
      "\u001b[1m[\u001b[0m\u001b[34;49mnotice\u001b[0m\u001b[1;39;49m]\u001b[0m\u001b[39;49m To update, run: \u001b[0m\u001b[32;49mpip install --upgrade pip\u001b[0m\n"
     ]
    }
   ],
   "source": [
    "!pip install imageio\n",
    "!pip install pyffmpeg"
   ]
  },
  {
   "cell_type": "code",
   "execution_count": 1,
   "id": "0d005d3b-e558-4f2e-a61f-2d89c9403650",
   "metadata": {},
   "outputs": [],
   "source": [
    "import matplotlib.pyplot as plt\n",
    "import pandas as pd\n",
    "import numpy as np\n",
    "import imageio.v2 as imageio\n",
    "import glob\n",
    "from tqdm import tqdm, trange"
   ]
  },
  {
   "cell_type": "code",
   "execution_count": 2,
   "id": "1f20d9f0-c773-4859-a9dd-14121fc0fa4e",
   "metadata": {
    "tags": []
   },
   "outputs": [],
   "source": [
    "from pyffmpeg import FFmpeg"
   ]
  },
  {
   "cell_type": "markdown",
   "id": "9b8c6a42-f209-4269-996a-da61ef56c0c1",
   "metadata": {},
   "source": [
    "# Load in CSV and sanity check inputs"
   ]
  },
  {
   "cell_type": "code",
   "execution_count": 3,
   "id": "60a02bb1-86c6-446f-97b5-68aca72b2730",
   "metadata": {
    "tags": []
   },
   "outputs": [],
   "source": [
    "csv = pd.read_csv(\"manga/manga_7443_12703_path_props.csv\")"
   ]
  },
  {
   "cell_type": "code",
   "execution_count": 4,
   "id": "383ca3c0-6a2a-4288-9d73-67b7b4df91b3",
   "metadata": {
    "tags": []
   },
   "outputs": [
    {
     "data": {
      "text/plain": [
       "(268.0, 752.0, 145.5, 464.5)"
      ]
     },
     "execution_count": 4,
     "metadata": {},
     "output_type": "execute_result"
    },
    {
     "data": {
      "image/png": "[encoded data removed]",
      "text/plain": [
       "<Figure size 400x400 with 1 Axes>"
      ]
     },
     "metadata": {},
     "output_type": "display_data"
    }
   ],
   "source": [
    "f, ax = plt.subplots(1, 1, figsize=(4, 4))\n",
    "im = imageio.imread(\"manga/manga_7443_12703_reconstructed_gri.png\")\n",
    "# ax.imshow((im - im.min())/(im.max() - im.min()))\n",
    "ax.plot(csv[\"x\"]*10, csv[\"y\"]*10, \"C2\")\n",
    "ax.plot(csv[\"x\"]*10, csv[\"y\"]*10, \"C2\")\n",
    "ax.axis(\"off\")"
   ]
  },
  {
   "cell_type": "markdown",
   "id": "fc7cac6d-5972-4daa-866d-a1f09ecf03d3",
   "metadata": {},
   "source": [
    "# Make GIF"
   ]
  },
  {
   "cell_type": "code",
   "execution_count": 5,
   "id": "eeccc809-11b4-4173-bbf7-84594465f0d1",
   "metadata": {
    "tags": []
   },
   "outputs": [
    {
     "name": "stderr",
     "output_type": "stream",
     "text": [
      "100%|██████████████████████████████████████████████████████████████████████████████████████████████████████████████████████████████████████████████████████| 139/139 [00:06<00:00, 21.07it/s]\n"
     ]
    }
   ],
   "source": [
    "im = imageio.imread(\"manga/manga_7443_12703_reconstructed_gri.png\")\n",
    "\n",
    "for ii in tqdm(np.arange(0, len(csv[\"x\"]), 1)):\n",
    "    f, ax = plt.subplots(1, 1, figsize=(4, 4))\n",
    "    ax.imshow((im - im.min())/(im.max() - im.min()))\n",
    "    ax.plot(csv[\"x\"][:ii]*10, csv[\"y\"][:ii]*10, \"r\")\n",
    "    ax.axis(\"off\")\n",
    "    f.savefig(f\"images/galaxy_{ii:03d}.png\")\n",
    "    plt.close()"
   ]
  },
  {
   "cell_type": "code",
   "execution_count": 6,
   "id": "cc715a52-9257-4f9a-bb57-9cf1b6878cc0",
   "metadata": {
    "tags": []
   },
   "outputs": [],
   "source": [
    "td = np.array(csv[\"timedelta\"])\n",
    "tds = td[:] - td[::-1]"
   ]
  },
  {
   "cell_type": "code",
   "execution_count": 7,
   "id": "7d79aea3-1bfe-4a39-8cc0-853a13a06910",
   "metadata": {
    "tags": []
   },
   "outputs": [
    {
     "name": "stderr",
     "output_type": "stream",
     "text": [
      "100%|██████████████████████████████████████████████████████████████████████████████████████████████████████████████████████████████████████████████████████| 333/333 [00:03<00:00, 85.95it/s]\n"
     ]
    },
    {
     "ename": "IndexError",
     "evalue": "list index out of range",
     "output_type": "error",
     "traceback": [
      "\u001b[0;31m---------------------------------------------------------------------------\u001b[0m",
      "\u001b[0;31mIndexError\u001b[0m                                Traceback (most recent call last)",
      "Cell \u001b[0;32mIn[7], line 4\u001b[0m\n\u001b[1;32m      2\u001b[0m \u001b[38;5;28;01mfor\u001b[39;00m filename \u001b[38;5;129;01min\u001b[39;00m tqdm(\u001b[38;5;28msorted\u001b[39m(glob\u001b[38;5;241m.\u001b[39mglob(\u001b[38;5;124m\"\u001b[39m\u001b[38;5;124mimages/*.png\u001b[39m\u001b[38;5;124m\"\u001b[39m))):\n\u001b[1;32m      3\u001b[0m     images\u001b[38;5;241m.\u001b[39mappend(imageio\u001b[38;5;241m.\u001b[39mimread(filename))\n\u001b[0;32m----> 4\u001b[0m \u001b[43mimageio\u001b[49m\u001b[38;5;241;43m.\u001b[39;49m\u001b[43mmimwrite\u001b[49m\u001b[43m(\u001b[49m\u001b[38;5;124;43m'\u001b[39;49m\u001b[38;5;124;43mimages/galaxy.gif\u001b[39;49m\u001b[38;5;124;43m'\u001b[39;49m\u001b[43m,\u001b[49m\u001b[43m \u001b[49m\u001b[43mimages\u001b[49m\u001b[43m[\u001b[49m\u001b[43m:\u001b[49m\u001b[43m]\u001b[49m\u001b[43m,\u001b[49m\u001b[43m \u001b[49m\u001b[43mloop\u001b[49m\u001b[38;5;241;43m=\u001b[39;49m\u001b[38;5;241;43m0\u001b[39;49m\u001b[43m,\u001b[49m\u001b[43m \u001b[49m\u001b[43mduration\u001b[49m\u001b[38;5;241;43m=\u001b[39;49m\u001b[43m[\u001b[49m\u001b[38;5;241;43m0.1\u001b[39;49m\u001b[43m]\u001b[49m\u001b[38;5;241;43m*\u001b[39;49m\u001b[43m(\u001b[49m\u001b[43mcsv\u001b[49m\u001b[43m[\u001b[49m\u001b[38;5;124;43m\"\u001b[39;49m\u001b[38;5;124;43mtimedelta\u001b[39;49m\u001b[38;5;124;43m\"\u001b[39;49m\u001b[43m]\u001b[49m\u001b[38;5;241;43m.\u001b[39;49m\u001b[43mvalues\u001b[49m\u001b[38;5;241;43m.\u001b[39;49m\u001b[43msize\u001b[49m\u001b[38;5;241;43m-\u001b[39;49m\u001b[38;5;241;43m1\u001b[39;49m\u001b[43m)\u001b[49m\u001b[43m)\u001b[49m\n",
      "File \u001b[0;32m~/Documents/Code/strauss_dev/venv/lib/python3.11/site-packages/imageio/v2.py:494\u001b[0m, in \u001b[0;36mmimwrite\u001b[0;34m(uri, ims, format, **kwargs)\u001b[0m\n\u001b[1;32m    492\u001b[0m imopen_args \u001b[38;5;241m=\u001b[39m decypher_format_arg(\u001b[38;5;28mformat\u001b[39m)\n\u001b[1;32m    493\u001b[0m imopen_args[\u001b[38;5;124m\"\u001b[39m\u001b[38;5;124mlegacy_mode\u001b[39m\u001b[38;5;124m\"\u001b[39m] \u001b[38;5;241m=\u001b[39m \u001b[38;5;28;01mTrue\u001b[39;00m\n\u001b[0;32m--> 494\u001b[0m \u001b[43m\u001b[49m\u001b[38;5;28;43;01mwith\u001b[39;49;00m\u001b[43m \u001b[49m\u001b[43mimopen\u001b[49m\u001b[43m(\u001b[49m\u001b[43muri\u001b[49m\u001b[43m,\u001b[49m\u001b[43m \u001b[49m\u001b[38;5;124;43m\"\u001b[39;49m\u001b[38;5;124;43mwI\u001b[39;49m\u001b[38;5;124;43m\"\u001b[39;49m\u001b[43m,\u001b[49m\u001b[43m \u001b[49m\u001b[38;5;241;43m*\u001b[39;49m\u001b[38;5;241;43m*\u001b[39;49m\u001b[43mimopen_args\u001b[49m\u001b[43m)\u001b[49m\u001b[43m \u001b[49m\u001b[38;5;28;43;01mas\u001b[39;49;00m\u001b[43m \u001b[49m\u001b[43mfile\u001b[49m\u001b[43m:\u001b[49m\n\u001b[1;32m    495\u001b[0m \u001b[43m    \u001b[49m\u001b[38;5;28;43;01mreturn\u001b[39;49;00m\u001b[43m \u001b[49m\u001b[43mfile\u001b[49m\u001b[38;5;241;43m.\u001b[39;49m\u001b[43mwrite\u001b[49m\u001b[43m(\u001b[49m\u001b[43mims\u001b[49m\u001b[43m,\u001b[49m\u001b[43m \u001b[49m\u001b[43mis_batch\u001b[49m\u001b[38;5;241;43m=\u001b[39;49m\u001b[38;5;28;43;01mTrue\u001b[39;49;00m\u001b[43m,\u001b[49m\u001b[43m \u001b[49m\u001b[38;5;241;43m*\u001b[39;49m\u001b[38;5;241;43m*\u001b[39;49m\u001b[43mkwargs\u001b[49m\u001b[43m)\u001b[49m\n",
      "File \u001b[0;32m~/Documents/Code/strauss_dev/venv/lib/python3.11/site-packages/imageio/core/v3_plugin_api.py:367\u001b[0m, in \u001b[0;36mPluginV3.__exit__\u001b[0;34m(self, type, value, traceback)\u001b[0m\n\u001b[1;32m    366\u001b[0m \u001b[38;5;28;01mdef\u001b[39;00m \u001b[38;5;21m__exit__\u001b[39m(\u001b[38;5;28mself\u001b[39m, \u001b[38;5;28mtype\u001b[39m, value, traceback) \u001b[38;5;241m-\u001b[39m\u001b[38;5;241m>\u001b[39m \u001b[38;5;28;01mNone\u001b[39;00m:\n\u001b[0;32m--> 367\u001b[0m     \u001b[38;5;28;43mself\u001b[39;49m\u001b[38;5;241;43m.\u001b[39;49m\u001b[43mclose\u001b[49m\u001b[43m(\u001b[49m\u001b[43m)\u001b[49m\n",
      "File \u001b[0;32m~/Documents/Code/strauss_dev/venv/lib/python3.11/site-packages/imageio/plugins/pillow.py:144\u001b[0m, in \u001b[0;36mPillowPlugin.close\u001b[0;34m(self)\u001b[0m\n\u001b[1;32m    143\u001b[0m \u001b[38;5;28;01mdef\u001b[39;00m \u001b[38;5;21mclose\u001b[39m(\u001b[38;5;28mself\u001b[39m) \u001b[38;5;241m-\u001b[39m\u001b[38;5;241m>\u001b[39m \u001b[38;5;28;01mNone\u001b[39;00m:\n\u001b[0;32m--> 144\u001b[0m     \u001b[38;5;28;43mself\u001b[39;49m\u001b[38;5;241;43m.\u001b[39;49m\u001b[43m_flush_writer\u001b[49m\u001b[43m(\u001b[49m\u001b[43m)\u001b[49m\n\u001b[1;32m    146\u001b[0m     \u001b[38;5;28;01mif\u001b[39;00m \u001b[38;5;28mself\u001b[39m\u001b[38;5;241m.\u001b[39m_image:\n\u001b[1;32m    147\u001b[0m         \u001b[38;5;28mself\u001b[39m\u001b[38;5;241m.\u001b[39m_image\u001b[38;5;241m.\u001b[39mclose()\n",
      "File \u001b[0;32m~/Documents/Code/strauss_dev/venv/lib/python3.11/site-packages/imageio/plugins/pillow.py:485\u001b[0m, in \u001b[0;36mPillowPlugin._flush_writer\u001b[0;34m(self)\u001b[0m\n\u001b[1;32m    482\u001b[0m     \u001b[38;5;28mself\u001b[39m\u001b[38;5;241m.\u001b[39msave_args[\u001b[38;5;124m\"\u001b[39m\u001b[38;5;124msave_all\u001b[39m\u001b[38;5;124m\"\u001b[39m] \u001b[38;5;241m=\u001b[39m \u001b[38;5;28;01mTrue\u001b[39;00m\n\u001b[1;32m    483\u001b[0m     \u001b[38;5;28mself\u001b[39m\u001b[38;5;241m.\u001b[39msave_args[\u001b[38;5;124m\"\u001b[39m\u001b[38;5;124mappend_images\u001b[39m\u001b[38;5;124m\"\u001b[39m] \u001b[38;5;241m=\u001b[39m \u001b[38;5;28mself\u001b[39m\u001b[38;5;241m.\u001b[39mimages_to_write\n\u001b[0;32m--> 485\u001b[0m \u001b[43mprimary_image\u001b[49m\u001b[38;5;241;43m.\u001b[39;49m\u001b[43msave\u001b[49m\u001b[43m(\u001b[49m\u001b[38;5;28;43mself\u001b[39;49m\u001b[38;5;241;43m.\u001b[39;49m\u001b[43m_request\u001b[49m\u001b[38;5;241;43m.\u001b[39;49m\u001b[43mget_file\u001b[49m\u001b[43m(\u001b[49m\u001b[43m)\u001b[49m\u001b[43m,\u001b[49m\u001b[43m \u001b[49m\u001b[38;5;241;43m*\u001b[39;49m\u001b[38;5;241;43m*\u001b[39;49m\u001b[38;5;28;43mself\u001b[39;49m\u001b[38;5;241;43m.\u001b[39;49m\u001b[43msave_args\u001b[49m\u001b[43m)\u001b[49m\n\u001b[1;32m    486\u001b[0m \u001b[38;5;28mself\u001b[39m\u001b[38;5;241m.\u001b[39mimages_to_write\u001b[38;5;241m.\u001b[39mclear()\n\u001b[1;32m    487\u001b[0m \u001b[38;5;28mself\u001b[39m\u001b[38;5;241m.\u001b[39msave_args\u001b[38;5;241m.\u001b[39mclear()\n",
      "File \u001b[0;32m~/Documents/Code/strauss_dev/venv/lib/python3.11/site-packages/PIL/Image.py:2439\u001b[0m, in \u001b[0;36mImage.save\u001b[0;34m(self, fp, format, **params)\u001b[0m\n\u001b[1;32m   2436\u001b[0m         fp \u001b[38;5;241m=\u001b[39m builtins\u001b[38;5;241m.\u001b[39mopen(filename, \u001b[38;5;124m\"\u001b[39m\u001b[38;5;124mw+b\u001b[39m\u001b[38;5;124m\"\u001b[39m)\n\u001b[1;32m   2438\u001b[0m \u001b[38;5;28;01mtry\u001b[39;00m:\n\u001b[0;32m-> 2439\u001b[0m     \u001b[43msave_handler\u001b[49m\u001b[43m(\u001b[49m\u001b[38;5;28;43mself\u001b[39;49m\u001b[43m,\u001b[49m\u001b[43m \u001b[49m\u001b[43mfp\u001b[49m\u001b[43m,\u001b[49m\u001b[43m \u001b[49m\u001b[43mfilename\u001b[49m\u001b[43m)\u001b[49m\n\u001b[1;32m   2440\u001b[0m \u001b[38;5;28;01mexcept\u001b[39;00m \u001b[38;5;167;01mException\u001b[39;00m:\n\u001b[1;32m   2441\u001b[0m     \u001b[38;5;28;01mif\u001b[39;00m open_fp:\n",
      "File \u001b[0;32m~/Documents/Code/strauss_dev/venv/lib/python3.11/site-packages/PIL/GifImagePlugin.py:704\u001b[0m, in \u001b[0;36m_save_all\u001b[0;34m(im, fp, filename)\u001b[0m\n\u001b[1;32m    703\u001b[0m \u001b[38;5;28;01mdef\u001b[39;00m \u001b[38;5;21m_save_all\u001b[39m(im, fp, filename):\n\u001b[0;32m--> 704\u001b[0m     \u001b[43m_save\u001b[49m\u001b[43m(\u001b[49m\u001b[43mim\u001b[49m\u001b[43m,\u001b[49m\u001b[43m \u001b[49m\u001b[43mfp\u001b[49m\u001b[43m,\u001b[49m\u001b[43m \u001b[49m\u001b[43mfilename\u001b[49m\u001b[43m,\u001b[49m\u001b[43m \u001b[49m\u001b[43msave_all\u001b[49m\u001b[38;5;241;43m=\u001b[39;49m\u001b[38;5;28;43;01mTrue\u001b[39;49;00m\u001b[43m)\u001b[49m\n",
      "File \u001b[0;32m~/Documents/Code/strauss_dev/venv/lib/python3.11/site-packages/PIL/GifImagePlugin.py:715\u001b[0m, in \u001b[0;36m_save\u001b[0;34m(im, fp, filename, save_all)\u001b[0m\n\u001b[1;32m    712\u001b[0m     palette \u001b[38;5;241m=\u001b[39m \u001b[38;5;28;01mNone\u001b[39;00m\n\u001b[1;32m    713\u001b[0m     im\u001b[38;5;241m.\u001b[39mencoderinfo\u001b[38;5;241m.\u001b[39msetdefault(\u001b[38;5;124m\"\u001b[39m\u001b[38;5;124moptimize\u001b[39m\u001b[38;5;124m\"\u001b[39m, \u001b[38;5;28;01mTrue\u001b[39;00m)\n\u001b[0;32m--> 715\u001b[0m \u001b[38;5;28;01mif\u001b[39;00m \u001b[38;5;129;01mnot\u001b[39;00m save_all \u001b[38;5;129;01mor\u001b[39;00m \u001b[38;5;129;01mnot\u001b[39;00m \u001b[43m_write_multiple_frames\u001b[49m\u001b[43m(\u001b[49m\u001b[43mim\u001b[49m\u001b[43m,\u001b[49m\u001b[43m \u001b[49m\u001b[43mfp\u001b[49m\u001b[43m,\u001b[49m\u001b[43m \u001b[49m\u001b[43mpalette\u001b[49m\u001b[43m)\u001b[49m:\n\u001b[1;32m    716\u001b[0m     _write_single_frame(im, fp, palette)\n\u001b[1;32m    718\u001b[0m fp\u001b[38;5;241m.\u001b[39mwrite(\u001b[38;5;124mb\u001b[39m\u001b[38;5;124m\"\u001b[39m\u001b[38;5;124m;\u001b[39m\u001b[38;5;124m\"\u001b[39m)  \u001b[38;5;66;03m# end of file\u001b[39;00m\n",
      "File \u001b[0;32m~/Documents/Code/strauss_dev/venv/lib/python3.11/site-packages/PIL/GifImagePlugin.py:614\u001b[0m, in \u001b[0;36m_write_multiple_frames\u001b[0;34m(im, fp, palette)\u001b[0m\n\u001b[1;32m    612\u001b[0m im_frame \u001b[38;5;241m=\u001b[39m _normalize_palette(im_frame, palette, encoderinfo)\n\u001b[1;32m    613\u001b[0m \u001b[38;5;28;01mif\u001b[39;00m \u001b[38;5;28misinstance\u001b[39m(duration, (\u001b[38;5;28mlist\u001b[39m, \u001b[38;5;28mtuple\u001b[39m)):\n\u001b[0;32m--> 614\u001b[0m     encoderinfo[\u001b[38;5;124m\"\u001b[39m\u001b[38;5;124mduration\u001b[39m\u001b[38;5;124m\"\u001b[39m] \u001b[38;5;241m=\u001b[39m \u001b[43mduration\u001b[49m\u001b[43m[\u001b[49m\u001b[43mframe_count\u001b[49m\u001b[43m]\u001b[49m\n\u001b[1;32m    615\u001b[0m \u001b[38;5;28;01melif\u001b[39;00m duration \u001b[38;5;129;01mis\u001b[39;00m \u001b[38;5;28;01mNone\u001b[39;00m \u001b[38;5;129;01mand\u001b[39;00m \u001b[38;5;124m\"\u001b[39m\u001b[38;5;124mduration\u001b[39m\u001b[38;5;124m\"\u001b[39m \u001b[38;5;129;01min\u001b[39;00m im_frame\u001b[38;5;241m.\u001b[39minfo:\n\u001b[1;32m    616\u001b[0m     encoderinfo[\u001b[38;5;124m\"\u001b[39m\u001b[38;5;124mduration\u001b[39m\u001b[38;5;124m\"\u001b[39m] \u001b[38;5;241m=\u001b[39m im_frame\u001b[38;5;241m.\u001b[39minfo[\u001b[38;5;124m\"\u001b[39m\u001b[38;5;124mduration\u001b[39m\u001b[38;5;124m\"\u001b[39m]\n",
      "\u001b[0;31mIndexError\u001b[0m: list index out of range"
     ]
    }
   ],
   "source": [
    "images = []\n",
    "for filename in tqdm(sorted(glob.glob(\"images/*.png\"))):\n",
    "    images.append(imageio.imread(filename))\n",
    "imageio.mimwrite('images/galaxy.gif', images[:], loop=0, duration=[0.1]*(csv[\"timedelta\"].values.size-1))"
   ]
  },
  {
   "cell_type": "markdown",
   "id": "74c5f38e-cead-49eb-8ff8-cd6f6d8266ec",
   "metadata": {},
   "source": [
    "<img src=\"images/galaxy.gif\" width=\"750\" align=\"center\">"
   ]
  },
  {
   "cell_type": "code",
   "execution_count": 8,
   "id": "77341c3c-16a7-4bcd-a40f-572ea68553e5",
   "metadata": {
    "tags": []
   },
   "outputs": [
    {
     "name": "stdout",
     "output_type": "stream",
     "text": [
      "ffmpeg version N-67181-g984d0b6e6f-static https://johnvansickle.com/ffmpeg/  Copyright (c) 2000-2023 the FFmpeg developers\n",
      "  built with gcc 8 (Debian 8.3.0-6)\n",
      "  configuration: --enable-gpl --enable-version3 --enable-static --disable-debug --disable-ffplay --disable-indev=sndio --disable-outdev=sndio --cc=gcc --enable-fontconfig --enable-frei0r --enable-gnutls --enable-gmp --enable-libgme --enable-gray --enable-libfribidi --enable-libass --enable-libfreetype --enable-libmp3lame --enable-libopencore-amrnb --enable-libopencore-amrwb --enable-libopenjpeg --enable-librubberband --enable-libsoxr --enable-libspeex --enable-libsrt --enable-libvorbis --enable-libopus --enable-libtheora --enable-libvidstab --enable-libvo-amrwbenc --enable-libvpx --enable-libwebp --enable-libx264 --enable-libx265 --enable-libxml2 --enable-libxvid --enable-libzimg\n",
      "  libavutil      58. 25.100 / 58. 25.100\n",
      "  libavcodec     60. 27.100 / 60. 27.100\n",
      "  libavformat    60. 13.100 / 60. 13.100\n",
      "  libavdevice    60.  2.101 / 60.  2.101\n",
      "  libavfilter     9. 11.100 /  9. 11.100\n",
      "  libswscale      7.  3.100 /  7.  3.100\n",
      "  libswresample   4. 11.100 /  4. 11.100\n",
      "  libpostproc    57.  2.100 / 57.  2.100\n",
      "Input #0, gif, from 'images/galaxy.gif':\n",
      "  Duration: 00:00:00.50, start: 0.000000, bitrate: 4696 kb/s\n",
      "  Stream #0:0: Video: gif, bgra, 400x400, 10 tbr, 100 tbn\n",
      "\u001b[1;35m[mp4 @ 0xced30c0] \u001b[0m\u001b[1;31mCould not find tag for codec gif in stream #0, codec not currently supported in container\n",
      "\u001b[0m\u001b[1;35m[out#0/mp4 @ 0xcecca00] \u001b[0m\u001b[1;31mCould not write header (incorrect codec parameters ?): Invalid argument\n",
      "\u001b[0m\u001b[1;31mError opening output file images/galaxy.mp4.\n",
      "\u001b[0m\u001b[4;31mError opening output files: Invalid argument\n",
      "\u001b[0m"
     ]
    }
   ],
   "source": [
    "!/home/msmith04/.pyffmpeg/bin/ffmpeg -i \"images/galaxy.gif\" -codec copy \"images/galaxy.mp4\""
   ]
  },
  {
   "cell_type": "markdown",
   "id": "ee425db9-dcdf-47c5-b580-94393c57eff4",
   "metadata": {
    "tags": []
   },
   "source": [
    "<img src=\"images/galaxy.mp4\" width=\"750\" align=\"center\">"
   ]
  },
  {
   "cell_type": "code",
   "execution_count": 14,
   "id": "cb7a1f60-8daa-4666-92b4-8a78b163d368",
   "metadata": {
    "tags": []
   },
   "outputs": [
    {
     "name": "stderr",
     "output_type": "stream",
     "text": [
      "2024-04-25 15:27:42,549 - pyffmpeg.FFmpeg - INFO - Inside get_ffmpeg_bin\n"
     ]
    }
   ],
   "source": [
    "ffmpeg_exe = ff.get_ffmpeg_bin()"
   ]
  },
  {
   "cell_type": "code",
   "execution_count": 15,
   "id": "a4c7a2f6-28c8-4045-87e7-3981a40affe8",
   "metadata": {
    "tags": []
   },
   "outputs": [
    {
     "data": {
      "text/plain": [
       "'/home/msmith04/.pyffmpeg/bin/ffmpeg'"
      ]
     },
     "execution_count": 15,
     "metadata": {},
     "output_type": "execute_result"
    }
   ],
   "source": [
    "ffmpeg_exe"
   ]
  },
  {
   "cell_type": "code",
   "execution_count": 15,
   "id": "d3b63b28-cfb6-4b20-95fc-4830b7d87167",
   "metadata": {},
   "outputs": [
    {
     "data": {
      "text/html": [
       "<div>\n",
       "<style scoped>\n",
       "    .dataframe tbody tr th:only-of-type {\n",
       "        vertical-align: middle;\n",
       "    }\n",
       "\n",
       "    .dataframe tbody tr th {\n",
       "        vertical-align: top;\n",
       "    }\n",
       "\n",
       "    .dataframe thead th {\n",
       "        text-align: right;\n",
       "    }\n",
       "</style>\n",
       "<table border=\"1\" class=\"dataframe\">\n",
       "  <thead>\n",
       "    <tr style=\"text-align: right;\">\n",
       "      <th></th>\n",
       "      <th>time</th>\n",
       "      <th>x</th>\n",
       "      <th>y</th>\n",
       "      <th>stellar_vel</th>\n",
       "      <th>stellar_sigma</th>\n",
       "      <th>emline_ha</th>\n",
       "      <th>emline_hb</th>\n",
       "      <th>emline_oiii4960</th>\n",
       "      <th>emline_oiii5008</th>\n",
       "    </tr>\n",
       "  </thead>\n",
       "  <tbody>\n",
       "    <tr>\n",
       "      <th>0</th>\n",
       "      <td>17:42:36.270843</td>\n",
       "      <td>73</td>\n",
       "      <td>35</td>\n",
       "      <td>0.0</td>\n",
       "      <td>0.0</td>\n",
       "      <td>0.0</td>\n",
       "      <td>0.0</td>\n",
       "      <td>0.0</td>\n",
       "      <td>0.0</td>\n",
       "    </tr>\n",
       "    <tr>\n",
       "      <th>1</th>\n",
       "      <td>17:42:36.283464</td>\n",
       "      <td>73</td>\n",
       "      <td>35</td>\n",
       "      <td>0.0</td>\n",
       "      <td>0.0</td>\n",
       "      <td>0.0</td>\n",
       "      <td>0.0</td>\n",
       "      <td>0.0</td>\n",
       "      <td>0.0</td>\n",
       "    </tr>\n",
       "    <tr>\n",
       "      <th>2</th>\n",
       "      <td>17:42:36.292020</td>\n",
       "      <td>73</td>\n",
       "      <td>35</td>\n",
       "      <td>0.0</td>\n",
       "      <td>0.0</td>\n",
       "      <td>0.0</td>\n",
       "      <td>0.0</td>\n",
       "      <td>0.0</td>\n",
       "      <td>0.0</td>\n",
       "    </tr>\n",
       "    <tr>\n",
       "      <th>3</th>\n",
       "      <td>17:42:36.295006</td>\n",
       "      <td>73</td>\n",
       "      <td>35</td>\n",
       "      <td>0.0</td>\n",
       "      <td>0.0</td>\n",
       "      <td>0.0</td>\n",
       "      <td>0.0</td>\n",
       "      <td>0.0</td>\n",
       "      <td>0.0</td>\n",
       "    </tr>\n",
       "    <tr>\n",
       "      <th>4</th>\n",
       "      <td>17:42:36.324903</td>\n",
       "      <td>72</td>\n",
       "      <td>35</td>\n",
       "      <td>0.0</td>\n",
       "      <td>0.0</td>\n",
       "      <td>0.0</td>\n",
       "      <td>0.0</td>\n",
       "      <td>0.0</td>\n",
       "      <td>0.0</td>\n",
       "    </tr>\n",
       "    <tr>\n",
       "      <th>...</th>\n",
       "      <td>...</td>\n",
       "      <td>...</td>\n",
       "      <td>...</td>\n",
       "      <td>...</td>\n",
       "      <td>...</td>\n",
       "      <td>...</td>\n",
       "      <td>...</td>\n",
       "      <td>...</td>\n",
       "      <td>...</td>\n",
       "    </tr>\n",
       "    <tr>\n",
       "      <th>172</th>\n",
       "      <td>17:42:38.721107</td>\n",
       "      <td>2</td>\n",
       "      <td>35</td>\n",
       "      <td>0.0</td>\n",
       "      <td>0.0</td>\n",
       "      <td>0.0</td>\n",
       "      <td>0.0</td>\n",
       "      <td>0.0</td>\n",
       "      <td>0.0</td>\n",
       "    </tr>\n",
       "    <tr>\n",
       "      <th>173</th>\n",
       "      <td>17:42:38.726396</td>\n",
       "      <td>2</td>\n",
       "      <td>35</td>\n",
       "      <td>0.0</td>\n",
       "      <td>0.0</td>\n",
       "      <td>0.0</td>\n",
       "      <td>0.0</td>\n",
       "      <td>0.0</td>\n",
       "      <td>0.0</td>\n",
       "    </tr>\n",
       "    <tr>\n",
       "      <th>174</th>\n",
       "      <td>17:42:38.743432</td>\n",
       "      <td>1</td>\n",
       "      <td>35</td>\n",
       "      <td>0.0</td>\n",
       "      <td>0.0</td>\n",
       "      <td>0.0</td>\n",
       "      <td>0.0</td>\n",
       "      <td>0.0</td>\n",
       "      <td>0.0</td>\n",
       "    </tr>\n",
       "    <tr>\n",
       "      <th>175</th>\n",
       "      <td>17:42:38.759384</td>\n",
       "      <td>0</td>\n",
       "      <td>35</td>\n",
       "      <td>0.0</td>\n",
       "      <td>0.0</td>\n",
       "      <td>0.0</td>\n",
       "      <td>0.0</td>\n",
       "      <td>0.0</td>\n",
       "      <td>0.0</td>\n",
       "    </tr>\n",
       "    <tr>\n",
       "      <th>176</th>\n",
       "      <td>17:42:38.776082</td>\n",
       "      <td>0</td>\n",
       "      <td>35</td>\n",
       "      <td>0.0</td>\n",
       "      <td>0.0</td>\n",
       "      <td>0.0</td>\n",
       "      <td>0.0</td>\n",
       "      <td>0.0</td>\n",
       "      <td>0.0</td>\n",
       "    </tr>\n",
       "  </tbody>\n",
       "</table>\n",
       "<p>177 rows × 9 columns</p>\n",
       "</div>"
      ],
      "text/plain": [
       "                time   x   y  stellar_vel  stellar_sigma  emline_ha  \\\n",
       "0    17:42:36.270843  73  35          0.0            0.0        0.0   \n",
       "1    17:42:36.283464  73  35          0.0            0.0        0.0   \n",
       "2    17:42:36.292020  73  35          0.0            0.0        0.0   \n",
       "3    17:42:36.295006  73  35          0.0            0.0        0.0   \n",
       "4    17:42:36.324903  72  35          0.0            0.0        0.0   \n",
       "..               ...  ..  ..          ...            ...        ...   \n",
       "172  17:42:38.721107   2  35          0.0            0.0        0.0   \n",
       "173  17:42:38.726396   2  35          0.0            0.0        0.0   \n",
       "174  17:42:38.743432   1  35          0.0            0.0        0.0   \n",
       "175  17:42:38.759384   0  35          0.0            0.0        0.0   \n",
       "176  17:42:38.776082   0  35          0.0            0.0        0.0   \n",
       "\n",
       "     emline_hb  emline_oiii4960  emline_oiii5008  \n",
       "0          0.0              0.0              0.0  \n",
       "1          0.0              0.0              0.0  \n",
       "2          0.0              0.0              0.0  \n",
       "3          0.0              0.0              0.0  \n",
       "4          0.0              0.0              0.0  \n",
       "..         ...              ...              ...  \n",
       "172        0.0              0.0              0.0  \n",
       "173        0.0              0.0              0.0  \n",
       "174        0.0              0.0              0.0  \n",
       "175        0.0              0.0              0.0  \n",
       "176        0.0              0.0              0.0  \n",
       "\n",
       "[177 rows x 9 columns]"
      ]
     },
     "execution_count": 15,
     "metadata": {},
     "output_type": "execute_result"
    }
   ],
   "source": [
    "csv"
   ]
  },
  {
   "cell_type": "code",
   "execution_count": 24,
   "id": "5fb9e2a3-7926-4bd1-ae5c-321efec19e81",
   "metadata": {},
   "outputs": [
    {
     "data": {
      "text/plain": [
       "[<matplotlib.lines.Line2D at 0x1493d1290>]"
      ]
     },
     "execution_count": 24,
     "metadata": {},
     "output_type": "execute_result"
    },
    {
     "data": {
      "image/png": "[encoded data removed]",
      "text/plain": [
       "<Figure size 640x480 with 1 Axes>"
      ]
     },
     "metadata": {},
     "output_type": "display_data"
    }
   ],
   "source": [
    "plt.plot(csv['x'], csv['y'])"
   ]
  },
  {
   "cell_type": "code",
   "execution_count": null,
   "id": "e7567381-a545-4068-adbc-2b98eae5949f",
   "metadata": {},
   "outputs": [],
   "source": []
  }
 ],
 "metadata": {
  "kernelspec": {
   "display_name": "Python 3 (ipykernel)",
   "language": "python",
   "name": "python3"
  },
  "language_info": {
   "codemirror_mode": {
    "name": "ipython",
    "version": 3
   },
   "file_extension": ".py",
   "mimetype": "text/x-python",
   "name": "python",
   "nbconvert_exporter": "python",
   "pygments_lexer": "ipython3",
   "version": "3.11.9"
  }
 },
 "nbformat": 4,
 "nbformat_minor": 5
}
