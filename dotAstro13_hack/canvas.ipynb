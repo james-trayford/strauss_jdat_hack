{
 "cells": [
  {
   "cell_type": "code",
   "execution_count": 1,
   "id": "474a75c2-defe-436a-9450-fc2c3a3c8a81",
   "metadata": {
    "tags": []
   },
   "outputs": [
    {
     "name": "stdout",
     "output_type": "stream",
     "text": [
      "Defaulting to user installation because normal site-packages is not writeable\n",
      "Collecting ipycanvas\n",
      "  Obtaining dependency information for ipycanvas from https://files.pythonhosted.org/packages/26/a3/b40b8460c20bbe5bd1bde85f5f1046600be2c64a1499f6883f560c5b01a0/ipycanvas-0.13.2-py2.py3-none-any.whl.metadata\n",
      "  Downloading ipycanvas-0.13.2-py2.py3-none-any.whl.metadata (6.3 kB)\n",
      "Requirement already satisfied: ipywidgets<9,>=7.6.0 in /opt/miniconda/lib/python3.11/site-packages (from ipycanvas) (8.1.0)\n",
      "Requirement already satisfied: numpy in /opt/miniconda/lib/python3.11/site-packages (from ipycanvas) (1.25.2)\n",
      "Requirement already satisfied: pillow>=6.0 in /opt/miniconda/lib/python3.11/site-packages (from ipycanvas) (10.0.0)\n",
      "Requirement already satisfied: comm>=0.1.3 in /opt/miniconda/lib/python3.11/site-packages (from ipywidgets<9,>=7.6.0->ipycanvas) (0.1.4)\n",
      "Requirement already satisfied: ipython>=6.1.0 in /opt/miniconda/lib/python3.11/site-packages (from ipywidgets<9,>=7.6.0->ipycanvas) (8.15.0)\n",
      "Requirement already satisfied: traitlets>=4.3.1 in /opt/miniconda/lib/python3.11/site-packages (from ipywidgets<9,>=7.6.0->ipycanvas) (5.9.0)\n",
      "Requirement already satisfied: widgetsnbextension~=4.0.7 in /opt/miniconda/lib/python3.11/site-packages (from ipywidgets<9,>=7.6.0->ipycanvas) (4.0.8)\n",
      "Requirement already satisfied: jupyterlab-widgets~=3.0.7 in /opt/miniconda/lib/python3.11/site-packages (from ipywidgets<9,>=7.6.0->ipycanvas) (3.0.8)\n",
      "Requirement already satisfied: backcall in /opt/miniconda/lib/python3.11/site-packages (from ipython>=6.1.0->ipywidgets<9,>=7.6.0->ipycanvas) (0.2.0)\n",
      "Requirement already satisfied: decorator in /opt/miniconda/lib/python3.11/site-packages (from ipython>=6.1.0->ipywidgets<9,>=7.6.0->ipycanvas) (5.1.1)\n",
      "Requirement already satisfied: jedi>=0.16 in /opt/miniconda/lib/python3.11/site-packages (from ipython>=6.1.0->ipywidgets<9,>=7.6.0->ipycanvas) (0.19.0)\n",
      "Requirement already satisfied: matplotlib-inline in /opt/miniconda/lib/python3.11/site-packages (from ipython>=6.1.0->ipywidgets<9,>=7.6.0->ipycanvas) (0.1.6)\n",
      "Requirement already satisfied: pickleshare in /opt/miniconda/lib/python3.11/site-packages (from ipython>=6.1.0->ipywidgets<9,>=7.6.0->ipycanvas) (0.7.5)\n",
      "Requirement already satisfied: prompt-toolkit!=3.0.37,<3.1.0,>=3.0.30 in /opt/miniconda/lib/python3.11/site-packages (from ipython>=6.1.0->ipywidgets<9,>=7.6.0->ipycanvas) (3.0.39)\n",
      "Requirement already satisfied: pygments>=2.4.0 in /opt/miniconda/lib/python3.11/site-packages (from ipython>=6.1.0->ipywidgets<9,>=7.6.0->ipycanvas) (2.16.1)\n",
      "Requirement already satisfied: stack-data in /opt/miniconda/lib/python3.11/site-packages (from ipython>=6.1.0->ipywidgets<9,>=7.6.0->ipycanvas) (0.6.2)\n",
      "Requirement already satisfied: pexpect>4.3 in /opt/miniconda/lib/python3.11/site-packages (from ipython>=6.1.0->ipywidgets<9,>=7.6.0->ipycanvas) (4.8.0)\n",
      "Requirement already satisfied: parso<0.9.0,>=0.8.3 in /opt/miniconda/lib/python3.11/site-packages (from jedi>=0.16->ipython>=6.1.0->ipywidgets<9,>=7.6.0->ipycanvas) (0.8.3)\n",
      "Requirement already satisfied: ptyprocess>=0.5 in /opt/miniconda/lib/python3.11/site-packages (from pexpect>4.3->ipython>=6.1.0->ipywidgets<9,>=7.6.0->ipycanvas) (0.7.0)\n",
      "Requirement already satisfied: wcwidth in /opt/miniconda/lib/python3.11/site-packages (from prompt-toolkit!=3.0.37,<3.1.0,>=3.0.30->ipython>=6.1.0->ipywidgets<9,>=7.6.0->ipycanvas) (0.2.6)\n",
      "Requirement already satisfied: executing>=1.2.0 in /opt/miniconda/lib/python3.11/site-packages (from stack-data->ipython>=6.1.0->ipywidgets<9,>=7.6.0->ipycanvas) (1.2.0)\n",
      "Requirement already satisfied: asttokens>=2.1.0 in /opt/miniconda/lib/python3.11/site-packages (from stack-data->ipython>=6.1.0->ipywidgets<9,>=7.6.0->ipycanvas) (2.4.0)\n",
      "Requirement already satisfied: pure-eval in /opt/miniconda/lib/python3.11/site-packages (from stack-data->ipython>=6.1.0->ipywidgets<9,>=7.6.0->ipycanvas) (0.2.2)\n",
      "Requirement already satisfied: six>=1.12.0 in /opt/miniconda/lib/python3.11/site-packages (from asttokens>=2.1.0->stack-data->ipython>=6.1.0->ipywidgets<9,>=7.6.0->ipycanvas) (1.16.0)\n",
      "Downloading ipycanvas-0.13.2-py2.py3-none-any.whl (122 kB)\n",
      "\u001b[2K   \u001b[90m━━━━━━━━━━━━━━━━━━━━━━━━━━━━━━━━━━━━━━━━\u001b[0m \u001b[32m122.9/122.9 kB\u001b[0m \u001b[31m1.5 MB/s\u001b[0m eta \u001b[36m0:00:00\u001b[0ma \u001b[36m0:00:01\u001b[0m\n",
      "\u001b[?25hInstalling collected packages: ipycanvas\n",
      "Successfully installed ipycanvas-0.13.2\n",
      "Note: you may need to restart the kernel to use updated packages.\n"
     ]
    }
   ],
   "source": [
    "%pip install ipycanvas"
   ]
  },
  {
   "cell_type": "code",
   "execution_count": 10,
   "id": "3e2f65d6-a5bd-4b0e-94f7-d2e1c1800f41",
   "metadata": {},
   "outputs": [
    {
     "data": {
      "application/vnd.jupyter.widget-view+json": {
       "model_id": "2ef73254c0bf41d19a8a54ea162c6577",
       "version_major": 2,
       "version_minor": 0
      },
      "text/plain": [
       "Canvas(width=500)"
      ]
     },
     "execution_count": 10,
     "metadata": {},
     "output_type": "execute_result"
    }
   ],
   "source": [
    "from ipywidgets import Image, Output\n",
    "\n",
    "\n",
    "from ipycanvas import Canvas\n",
    "\n",
    "img = \"/media/team_workspaces/dotAstronomy/Sonification_hack/STRAUSS Tutorial/strauss/misc/strauss_logo_transparent.png\"\n",
    "sprite1 = Image.from_file(img)\n",
    "\n",
    "canvas = Canvas(width=500, height=500)\n",
    "\n",
    "canvas.fill_style = \"#a9cafc\"\n",
    "canvas.fill_rect(0, 0, 500, 500)\n",
    "\n",
    "canvas.draw_image(sprite1, 0, 0)\n",
    "\n",
    "\n",
    "out = Output()\n",
    "\n",
    "@out.capture()\n",
    "def handle_mouse_move(x, y):\n",
    "    print(\"Mouse move event:\", x, y)\n",
    "\n",
    "\n",
    "canvas.on_mouse_move(handle_mouse_move)\n",
    "\n",
    "\n",
    "@out.capture()\n",
    "def handle_mouse_down(x, y):\n",
    "    print(\"Mouse down event:\", x, y)\n",
    "\n",
    "canvas.on_mouse_down(handle_mouse_down)\n",
    "\n",
    "canvas"
   ]
  },
  {
   "cell_type": "code",
   "execution_count": 8,
   "id": "1bcd30c3-b3ae-441d-91c3-848baa7e8044",
   "metadata": {
    "tags": []
   },
   "outputs": [
    {
     "data": {
      "text/plain": [
       "'/media/team_workspaces/dotAstronomy/Sonification_hack'"
      ]
     },
     "execution_count": 8,
     "metadata": {},
     "output_type": "execute_result"
    }
   ],
   "source": [
    "%pwd"
   ]
  },
  {
   "cell_type": "code",
   "execution_count": null,
   "id": "afc689ef-e265-463d-964c-56f6b1318bb1",
   "metadata": {},
   "outputs": [],
   "source": []
  }
 ],
 "metadata": {
  "kernelspec": {
   "display_name": "Python 3 (ipykernel)",
   "language": "python",
   "name": "python3"
  },
  "language_info": {
   "codemirror_mode": {
    "name": "ipython",
    "version": 3
   },
   "file_extension": ".py",
   "mimetype": "text/x-python",
   "name": "python",
   "nbconvert_exporter": "python",
   "pygments_lexer": "ipython3",
   "version": "3.11.6"
  }
 },
 "nbformat": 4,
 "nbformat_minor": 5
}
