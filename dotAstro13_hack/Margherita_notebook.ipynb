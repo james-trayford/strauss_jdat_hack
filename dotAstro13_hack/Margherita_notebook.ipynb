{
 "cells": [
  {
   "cell_type": "code",
   "execution_count": 37,
   "id": "cbd7dcf7-5818-4c15-83d1-f9585bb9d651",
   "metadata": {
    "tags": []
   },
   "outputs": [],
   "source": [
    "import numpy as np\n",
    "from PIL import Image\n",
    "from astropy.table import Table\n",
    "import os\n",
    "from PIL import Image\n",
    "import matplotlib.pyplot as plt\n",
    "import matplotlib.image as mpimg\n",
    "from astropy.io import fits\n",
    "from astropy.wcs import WCS\n",
    "\n",
    "\n",
    "def lupton04_pil_format(images, scales=(1., 1., 1.), beta=1.):\n",
    "    \"\"\"\n",
    "    Parameters:\n",
    "    - images: List of image channels (R, G, B)\n",
    "    - scales: Tuple of scaling factors for each channel\n",
    "    - beta: Parameter for the arcsinh function\n",
    "\n",
    "    Output:\n",
    "    - List of RGB tuples in PIL format\n",
    "    \"\"\"\n",
    "    r = images[0] * scales[0]\n",
    "    g = images[1] * scales[1]\n",
    "    b = images[2] * scales[2]\n",
    "\n",
    "    I = (r + g + b) / 3.\n",
    "    print(np.min(I))\n",
    "    print(np.max(I))\n",
    "    f = np.arcsinh(I / beta)\n",
    "\n",
    "    R = r * f / I\n",
    "    G = g * f / I\n",
    "    B = b * f / I\n",
    "\n",
    "    M = max(R.max(), G.max(), B.max())\n",
    "\n",
    "    R = R / M * 255.\n",
    "    G = G / M * 255.\n",
    "    B = B / M * 255.\n",
    "\n",
    "    R[R < 0.] = 0.\n",
    "    G[G < 0.] = 0.\n",
    "    B[B < 0.] = 0.\n",
    "\n",
    "    flatlist = []\n",
    "    for img in [R, G, B]:\n",
    "        img = np.uint8(img.round())\n",
    "        img = np.flipud(img)\n",
    "        flatlist.append(img.flatten())\n",
    "\n",
    "    result = []\n",
    "    for i in range(images[0].size):\n",
    "        result.append((flatlist[0][i], flatlist[1][i], flatlist[2][i]))\n",
    "\n",
    "    return result\n",
    "\n",
    "\n",
    "def make_crazy_pil_format(data, cuts):\n",
    "    \"\"\"\n",
    "    Parameters:\n",
    "    - data: List of image channels (R, G, B)\n",
    "    - cuts: Tuple of percentiles for each channel\n",
    "\n",
    "    Output:\n",
    "    - List of RGB tuples in PIL format\n",
    "    \"\"\"\n",
    "    newlist = []\n",
    "    for i in range(3):\n",
    "        flatd = np.flipud(data[i]).flatten()\n",
    "        flatd[flatd < 0.] = 0.\n",
    "        flatd *= 255. / cuts[i]\n",
    "        flatd[flatd > 255.] = 255.\n",
    "        flatd = np.uint8(flatd.round())\n",
    "        newlist.append(flatd)\n",
    "\n",
    "    l = []\n",
    "\n",
    "    for i in range(data[0].size):\n",
    "        l.append((newlist[0][i], newlist[1][i], newlist[2][i]))\n",
    "\n",
    "    return l\n",
    "\n"
   ]
  },
  {
   "cell_type": "code",
   "execution_count": 33,
   "id": "1484d560-1440-4372-b9fc-a1cd2cc93490",
   "metadata": {
    "tags": []
   },
   "outputs": [],
   "source": [
    "# Default RGB bands and settings\n",
    "rgbbands = ('i', 'r', 'g') \n",
    "scales = np.array([0.5, 0.6, 1.8]) / 10.**(-2./5.*27.)\n",
    "alpha = 0.02\n",
    "Q = 8.\n",
    "\n",
    "def display_png(path_png):\n",
    "    \"\"\"\n",
    "    Display PNG image from the given path.\n",
    "\n",
    "    Parameters:\n",
    "        path_png (str): Path to the PNG image file.\n",
    "    \"\"\"\n",
    "    print(path_png)\n",
    "    img = mpimg.imread(path_png)\n",
    "    imgplot = plt.imshow(np.flip(img, axis=0))\n",
    "    plt.show()\n"
   ]
  },
  {
   "cell_type": "code",
   "execution_count": 34,
   "id": "9d7eef4f-6844-4e75-aa05-cda29f209b05",
   "metadata": {
    "tags": []
   },
   "outputs": [],
   "source": [
    "def load_fits(image_file):\n",
    "    \"\"\"\n",
    "    Load FITS file data.\n",
    "\n",
    "    Parameters:\n",
    "    - image_file (str): Path to the FITS file.\n",
    "\n",
    "    Returns:\n",
    "    - HDUList: FITS file data.\n",
    "    \"\"\"\n",
    "    \n",
    "    return fits.open(image_file)\n",
    "\n",
    "def has_dimension_three(arr):\n",
    "    \"\"\"\n",
    "    Check if the input array has three dimensions.\n",
    "\n",
    "    Parameters:\n",
    "        arr (numpy.ndarray): Input array.\n",
    "\n",
    "    Returns:\n",
    "        bool: True if the array has three dimensions, False otherwise.\n",
    "    \"\"\"\n",
    "    return arr.ndim >= 3 and 3 in arr.shape"
   ]
  },
  {
   "cell_type": "code",
   "execution_count": 35,
   "id": "85a8c145-51d7-4026-a1c6-52b52daec30b",
   "metadata": {
    "tags": []
   },
   "outputs": [],
   "source": [
    "def make_rgb_one_image(img_array=None , img_name=None, tile_name=None, \n",
    "                       folder_cutouts=None, display_plot=False, \n",
    "                       return_img=False, type_plot='lupton', save_img=False, path_to_save=None ):\n",
    "    \n",
    "    \"\"\"\n",
    "    Create an RGB image from FITS files or provided image array.\n",
    "\n",
    "    Parameters:\n",
    "        img_array (numpy.ndarray): Image data array. If not provided, img_name and tile_name must be provided.\n",
    "        img_name (str): ID of the image.\n",
    "        tile_name (str): ID of the tile.\n",
    "        folder_cutouts (str): Path to the folder containing FITS files.\n",
    "        display_plot (bool): Whether to display the RGB image plot.\n",
    "        return_img (bool): Whether to return the RGB image as a NumPy array.\n",
    "        type_plot (str): Type of RGB plot ('marshall' or 'lupton').\n",
    "        save_img (bool): Whether to save the RGB image.\n",
    "        path_to_save (str): Path to save the RGB image if save_img is True.\n",
    "\n",
    "    Returns:\n",
    "        np.ndarray: RGB image as a NumPy array if return_img is True.\n",
    "    \"\"\"\n",
    "\n",
    "    if img_array is None:\n",
    "        if (img_name is not None) and (tile_name is not None):\n",
    "            # Load image from file\n",
    "            if not img_name.endswith('.fits'):\n",
    "                img_name = img_name+'.fits'\n",
    "\n",
    "            rgbdata = []\n",
    "            for band in rgbbands:\n",
    "                try:\n",
    "                    img_to_display = os.path.join(folder_cutouts, band+'_band', 'tile_'+change_specialcharacters(tile_name), img_name)\n",
    "                    img_array = fits.getdata(img_to_display, memmap=True)\n",
    "                except:\n",
    "                    try:\n",
    "                        img_to_display = os.path.join(folder_cutouts, band+'_band', change_specialcharacters(tile_name), img_name)\n",
    "                \n",
    "                    except FileNotFoundError:\n",
    "                        print('in HD_MG')\n",
    "                        img_to_display = os.path.join('/home/grespanm/mnt/HD_MG/KiDS_cutout', band+'_band', change_specialcharacters(tile_name), img_name)\n",
    "\n",
    "                img_array = fits.getdata(img_to_display, memmap=True)\n",
    "                rgbdata.append(img_array)\n",
    "             \n",
    "        else:\n",
    "            raise ValueError(\"Either 'img_name' and 'tile_name' or 'img_array' must be provided.\")\n",
    "    else:\n",
    "\n",
    "        # Create a new array with the third dimension in the order i,r,g\n",
    "        rgbdata = img_array#[[1, 0, 2], :, :]\n",
    "        img_array = img_array[0,:,:]\n",
    "        \n",
    "       \n",
    "\n",
    "    s = img_array.shape\n",
    "   \n",
    "    im = Image.new('RGB', (s[1], s[0]), 'black')\n",
    "    if type_plot== 'marshall':\n",
    "        im.putdata(marshall16_pil_format(rgbdata, scales=scales, alpha=alpha, Q=Q))\n",
    "    elif type_plot=='lupton':\n",
    "        im.putdata(lupton04_pil_format(rgbdata, scales=scales))\n",
    "    else:\n",
    "        raise ValueError('type_plot error, available values marshall and lupton')\n",
    "    #if (img_name is not None) and (tile_name is not None):\n",
    "    if save_img:\n",
    "        if (img_name is None) and (tile_name is None):\n",
    "            raise ValueError('If you want to save the image give tile name and image name!')\n",
    "        if path_to_save is None:\n",
    "            raise ValueError('If you want to save the image you need to give the path (parent directory) to save it.')\n",
    "        name_to_save =tile_name+'_ID_'+'.'.join(img_name.split('.')[:-1])\n",
    "        pp_save=os.path.join(path_to_save,'RGB_images')\n",
    "\n",
    "        if not os.path.exists(pp_save):\n",
    "            os.mkdir(pp_save)\n",
    "        pp_save = os.path.join(pp_save, name_to_save+'.png')\n",
    "        im.save(pp_save)\n",
    "\n",
    "    if display_plot:\n",
    "        fig, ax = plt.subplots(figsize=(5, 5)) \n",
    "        # Convert the PIL image to a NumPy array\n",
    "        np_image = np.array(im)\n",
    "        # Display the NumPy array as an image with Matplotlib\n",
    "        plt.imshow(np_image)\n",
    "        plt.axis('off')\n",
    "        plt.show()\n",
    "\n",
    "    if return_img:\n",
    "        return np.array(im)"
   ]
  },
  {
   "cell_type": "code",
   "execution_count": 20,
   "id": "488b30cf-f18b-47fd-b75c-d3e5dcffb325",
   "metadata": {
    "tags": []
   },
   "outputs": [],
   "source": [
    "path= 'manga/manga-7443-12703-LOGCUBE.fits'"
   ]
  },
  {
   "cell_type": "code",
   "execution_count": 21,
   "id": "b0998096-bcfe-4cba-86c0-258f9173f09e",
   "metadata": {
    "tags": []
   },
   "outputs": [],
   "source": [
    "hdu = load_fits(os.path.join(path))"
   ]
  },
  {
   "cell_type": "code",
   "execution_count": 22,
   "id": "9512ed77-5f4a-4a64-9c98-7feed2859385",
   "metadata": {
    "tags": []
   },
   "outputs": [],
   "source": [
    "#g,r,i\n",
    "img_t = []\n",
    "#i,r,g\n",
    "for i in [14,13,12]:\n",
    "    img_t.append(hdu[i].data)\n",
    "img_t = np.array(img_t)"
   ]
  },
  {
   "cell_type": "code",
   "execution_count": 23,
   "id": "3fe5be83-ce4e-4a06-985b-b410c3401d39",
   "metadata": {
    "tags": []
   },
   "outputs": [
    {
     "data": {
      "text/plain": [
       "(3, 74, 74)"
      ]
     },
     "execution_count": 23,
     "metadata": {},
     "output_type": "execute_result"
    }
   ],
   "source": [
    "img_t.shape"
   ]
  },
  {
   "cell_type": "code",
   "execution_count": 24,
   "id": "5c07ba26-2de2-4eb7-99c8-fc3649bb25ea",
   "metadata": {
    "tags": []
   },
   "outputs": [],
   "source": [
    "import numpy as np\n",
    "from sklearn.preprocessing import StandardScaler\n",
    "\n",
    "# Define the small epsilon value\n",
    "epsilon = 1e-10\n",
    "\n",
    "# Replace zeros with epsilon value\n",
    "img_t_nonzero = np.where(img_t == 0, epsilon, img_t)\n",
    "\n",
    "\n"
   ]
  },
  {
   "cell_type": "code",
   "execution_count": 25,
   "id": "1164b51e-3a7a-4bbf-876a-41d24c7c2020",
   "metadata": {
    "tags": []
   },
   "outputs": [],
   "source": [
    "# Assuming img_t is your array of shape (3, 74, 74)\n",
    "# Extracting a square portion centered in the image with edges of length 50\n",
    "center_x = img_t.shape[1] // 2\n",
    "center_y = img_t.shape[2] // 2\n",
    "edge_length = 20\n",
    "\n",
    "# Define the boundaries for slicing\n",
    "x_start = center_x - edge_length // 2\n",
    "x_end = center_x + edge_length // 2\n",
    "y_start = center_y - edge_length // 2\n",
    "y_end = center_y + edge_length // 2\n",
    "\n",
    "# Extract the square portion\n",
    "square_img = img_t[:, x_start:x_end, y_start:y_end]\n",
    "\n",
    "img_t_nonzero = np.where(square_img == 0, epsilon, square_img)\n"
   ]
  },
  {
   "cell_type": "code",
   "execution_count": 36,
   "id": "bd97a13f-2b72-42d3-8eba-d9047726844e",
   "metadata": {
    "tags": []
   },
   "outputs": [
    {
     "name": "stdout",
     "output_type": "stream",
     "text": [
      "16407975000.0\n",
      "365036340000.0\n"
     ]
    },
    {
     "data": {
      "image/png": "[encoded data removed]",
      "text/plain": [
       "<Figure size 500x500 with 1 Axes>"
      ]
     },
     "metadata": {},
     "output_type": "display_data"
    }
   ],
   "source": [
    "make_rgb_one_image(img_array=square_img, display_plot=True, type_plot='lupton')"
   ]
  },
  {
   "cell_type": "code",
   "execution_count": 13,
   "id": "27c7d25d-f931-41e7-8458-bc410b2713c4",
   "metadata": {
    "tags": []
   },
   "outputs": [
    {
     "data": {
      "text/plain": [
       "<matplotlib.image.AxesImage at 0x7efcb3dda0d0>"
      ]
     },
     "execution_count": 13,
     "metadata": {},
     "output_type": "execute_result"
    },
    {
     "data": {
      "image/png": "[encoded data removed]",
      "text/plain": [
       "<Figure size 640x480 with 1 Axes>"
      ]
     },
     "metadata": {},
     "output_type": "display_data"
    }
   ],
   "source": [
    "import numpy as np\n",
    "import matplotlib.pyplot as plt\n",
    "from astropy.visualization import make_lupton_rgb\n",
    "from astropy.io import fits\n",
    "from astropy.utils.data import get_pkg_data_filename\n",
    "\n",
    "\n",
    "\n",
    "rgb_default = make_lupton_rgb(img_t[0], img_t[1], img_t[2], filename='img.pn')\n",
    "plt.imshow(rgb_default, origin='lower')"
   ]
  },
  {
   "cell_type": "code",
   "execution_count": null,
   "id": "86829cb0-36f8-48af-8ec6-a2881cccadcc",
   "metadata": {},
   "outputs": [],
   "source": []
  }
 ],
 "metadata": {
  "kernelspec": {
   "display_name": "Python 3 (ipykernel)",
   "language": "python",
   "name": "python3"
  },
  "language_info": {
   "codemirror_mode": {
    "name": "ipython",
    "version": 3
   },
   "file_extension": ".py",
   "mimetype": "text/x-python",
   "name": "python",
   "nbconvert_exporter": "python",
   "pygments_lexer": "ipython3",
   "version": "3.11.5"
  }
 },
 "nbformat": 4,
 "nbformat_minor": 5
}
