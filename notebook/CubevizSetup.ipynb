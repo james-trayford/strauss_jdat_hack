{
 "cells": [
  {
   "cell_type": "code",
   "execution_count": null,
   "id": "0159762c-4357-4328-b45e-5e249673fd26",
   "metadata": {},
   "outputs": [],
   "source": [
    "%reload_ext autoreload \n",
    "%autoreload 2\n",
    "# load important packages\n",
    "import os\n",
    "import time\n",
    "from IPython.display import YouTubeVideo\n",
    "import warnings\n",
    "\n",
    "import numpy as np\n",
    "from astropy.io import fits\n",
    "from astropy import units as u\n",
    "from astropy.modeling.functional_models import Gaussian1D\n",
    "from astropy.utils.data import download_file\n",
    "from specutils import Spectrum1D\n",
    "from jdaviz import Cubeviz\n",
    "from specutils.manipulation import extract_region\n",
    "from specutils.spectra import SpectralRegion\n",
    "from regions import PixCoord, CirclePixelRegion\n",
    "from glue.core.roi import XRangeROI\n",
    "import jdaviz "
   ]
  },
  {
   "cell_type": "code",
   "execution_count": null,
   "id": "9f260ff6-fd9e-46a2-a516-d14a74dd2b37",
   "metadata": {},
   "outputs": [],
   "source": [
    "# load and configure matplotlib\n",
    "%matplotlib inline\n",
    "import matplotlib.pyplot as plt\n",
    "plt.rcParams.update({'figure.max_open_warning': 0})"
   ]
  },
  {
   "cell_type": "code",
   "execution_count": null,
   "id": "a83d3d8d-c961-4c61-9d0f-2aaa89108b24",
   "metadata": {},
   "outputs": [],
   "source": [
    "cubeviz = Cubeviz()\n",
    "cubeviz.show()"
   ]
  },
  {
   "cell_type": "code",
   "execution_count": null,
   "id": "64b6f72f-a884-4aa5-8c3b-ec8222b5369f",
   "metadata": {},
   "outputs": [],
   "source": [
    "cubeviz.load_data(\"/path/to/your/cube.fits\", override_cube_limit=True)"
   ]
  }
 ],
 "metadata": {
  "kernelspec": {
   "display_name": "Python 3 (ipykernel)",
   "language": "python",
   "name": "python3"
  },
  "language_info": {
   "codemirror_mode": {
    "name": "ipython",
    "version": 3
   },
   "file_extension": ".py",
   "mimetype": "text/x-python",
   "name": "python",
   "nbconvert_exporter": "python",
   "pygments_lexer": "ipython3",
   "version": "3.11.9"
  }
 },
 "nbformat": 4,
 "nbformat_minor": 5
}
