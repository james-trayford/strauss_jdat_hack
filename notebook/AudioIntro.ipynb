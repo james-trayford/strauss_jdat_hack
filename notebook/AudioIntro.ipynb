{
 "cells": [
  {
   "cell_type": "markdown",
   "id": "8e0fc875-7934-4e35-8fc5-38fb49df0286",
   "metadata": {},
   "source": [
    "# \"Seamless\" Audio"
   ]
  },
  {
   "cell_type": "code",
   "execution_count": null,
   "id": "4b05a49f-b8f5-4108-978a-9a844b87efb8",
   "metadata": {},
   "outputs": [],
   "source": [
    "# load important packages\n",
    "import os\n",
    "import time\n",
    "from IPython.display import YouTubeVideo\n",
    "import warnings\n",
    "import numpy as np\n",
    "import time\n",
    "import sounddevice as sd"
   ]
  },
  {
   "cell_type": "code",
   "execution_count": null,
   "id": "487ff9b3-017f-431a-945a-6d9171932fc7",
   "metadata": {},
   "outputs": [],
   "source": [
    "%matplotlib inline\n",
    "import matplotlib.pyplot as plt\n",
    "plt.rcParams.update({'figure.max_open_warning': 0})"
   ]
  },
  {
   "cell_type": "markdown",
   "id": "f0b5fac8-9794-450c-8a8b-f298c8325802",
   "metadata": {},
   "source": [
    "Specify a sample rate (in Hz) and buffer size (samples per audio 'buffer')"
   ]
  },
  {
   "cell_type": "code",
   "execution_count": null,
   "id": "40cd1ee0-f3d4-4a02-adea-974d913afd52",
   "metadata": {},
   "outputs": [],
   "source": [
    "srate = 44100\n",
    "bsize = 2048"
   ]
  },
  {
   "cell_type": "markdown",
   "id": "3b641594-7bd9-4985-ae17-b051433df5f3",
   "metadata": {},
   "source": [
    "### Generating a pure tone"
   ]
  },
  {
   "cell_type": "markdown",
   "id": "17a5e4d1-1a7d-422d-b02b-baa2b306e12e",
   "metadata": {},
   "source": [
    "If we loop a sine wave using a `2048` sample buffer, and choose the period to be an exact factor of the buffer size, we should hear a pure tone.\n",
    "\n",
    "First generate the samples:"
   ]
  },
  {
   "cell_type": "code",
   "execution_count": null,
   "id": "517f2e4a-cef6-4a23-9326-a60fca7f1317",
   "metadata": {},
   "outputs": [],
   "source": [
    "phase = np.linspace(0,24*np.pi,bsize)\n",
    "y = np.sin(phase)\n",
    "plt.figure(figsize=(12,3))\n",
    "plt.plot(y)\n",
    "plt.axis('off')"
   ]
  },
  {
   "cell_type": "markdown",
   "id": "e953cf27-2618-40e2-805e-73a182f2c214",
   "metadata": {},
   "source": [
    "Then play it for 5 seconds (i.e. `44100*5/2048 = 107.666` times)"
   ]
  },
  {
   "cell_type": "code",
   "execution_count": null,
   "id": "48a3dd32-9000-4f6f-a6f1-c9ba8e6ae37b",
   "metadata": {},
   "outputs": [],
   "source": [
    "sd.play(y/(y.max()*5), srate,loop=True)\n",
    "time.sleep(5)\n",
    "sd.stop()"
   ]
  },
  {
   "cell_type": "markdown",
   "id": "d745a297-8125-4bf2-baf0-6cfabb5a6d96",
   "metadata": {},
   "source": [
    "### Discontinuities"
   ]
  },
  {
   "cell_type": "markdown",
   "id": "3544a93b-5302-4c61-b95f-0818d7763ae0",
   "metadata": {},
   "source": [
    "Now simulate discontinuities in the audio, first by adding a phase change in the middle as a n illustration"
   ]
  },
  {
   "cell_type": "code",
   "execution_count": null,
   "id": "4e783eef-18b7-44ed-b2fd-e681829236a0",
   "metadata": {},
   "outputs": [],
   "source": [
    "phase = np.linspace(0,24*np.pi,bsize)\n",
    "phase[1000:]+= 3\n",
    "y = np.sin(phase)\n",
    "plt.figure(figsize=(12,3))\n",
    "plt.plot(np.sin(phase))\n",
    "plt.axis('off')"
   ]
  },
  {
   "cell_type": "markdown",
   "id": "f1538886-ee4a-4582-b228-7e76aebd4317",
   "metadata": {},
   "source": [
    "...and play"
   ]
  },
  {
   "cell_type": "code",
   "execution_count": null,
   "id": "bbe5ff7c-a856-47ed-8f3d-5cd69f764736",
   "metadata": {},
   "outputs": [],
   "source": [
    "sd.play(y/(y.max()*5), srate,loop=True)\n",
    "time.sleep(5)\n",
    "sd.stop()"
   ]
  },
  {
   "cell_type": "markdown",
   "id": "3fb6edb5-b24b-4f4d-b7f3-493b4dde535e",
   "metadata": {},
   "source": [
    "And then, by making it so the period no longer fits evenly into the buffer:"
   ]
  },
  {
   "cell_type": "code",
   "execution_count": null,
   "id": "6b49f354-1a6a-4075-b131-1aee96dff0f7",
   "metadata": {},
   "outputs": [],
   "source": [
    "phase = np.linspace(0,27.7*np.pi,bsize)\n",
    "y = np.sin(phase)\n",
    "plt.figure(figsize=(12,3))\n",
    "plt.plot(np.sin(phase))\n",
    "plt.axis('off')"
   ]
  },
  {
   "cell_type": "markdown",
   "id": "5a9607af-8497-47cc-a3ea-c342cbc8da81",
   "metadata": {},
   "source": [
    "...and play"
   ]
  },
  {
   "cell_type": "code",
   "execution_count": null,
   "id": "b3a9c193-f497-43bf-a88e-182bb188b2a7",
   "metadata": {},
   "outputs": [],
   "source": [
    "sd.play(y/(y.max()*5), srate,loop=True)\n",
    "time.sleep(5)\n",
    "sd.stop()"
   ]
  },
  {
   "cell_type": "markdown",
   "id": "97dffc63-2f6b-48c3-8041-8e425c02aa37",
   "metadata": {},
   "source": [
    "### 'Dropouts'"
   ]
  },
  {
   "cell_type": "markdown",
   "id": "495d98d6-9fbf-4eb3-9988-aa15a5fba5e4",
   "metadata": {},
   "source": [
    "Here we simulate audio dropouts, which can happen if audio is not processed in time, so part of the output signal is reverted to zeros. We do a rough simulation of these here:"
   ]
  },
  {
   "cell_type": "code",
   "execution_count": null,
   "id": "f679a399-64d8-4475-88ca-ce8cf8c1fa77",
   "metadata": {},
   "outputs": [],
   "source": [
    "phase = np.linspace(0,24*np.pi,bsize)\n",
    "y = np.sin(phase)\n",
    "y[np.random.randint(bsize, size=10)] = 0\n",
    "plt.figure(figsize=(12,3))\n",
    "plt.plot(y)\n",
    "plt.axis('off')"
   ]
  },
  {
   "cell_type": "markdown",
   "id": "2bb04181-4c70-44e2-b5db-676d3994cf83",
   "metadata": {},
   "source": [
    "...and play"
   ]
  },
  {
   "cell_type": "code",
   "execution_count": null,
   "id": "27a5e1b1-2918-4c31-b34a-1f89e7c2e9f0",
   "metadata": {},
   "outputs": [],
   "source": [
    "sd.play(y/(y.max()*5), srate,loop=True)\n",
    "time.sleep(5)\n",
    "sd.stop()"
   ]
  }
 ],
 "metadata": {
  "kernelspec": {
   "display_name": "Python 3 (ipykernel)",
   "language": "python",
   "name": "python3"
  },
  "language_info": {
   "codemirror_mode": {
    "name": "ipython",
    "version": 3
   },
   "file_extension": ".py",
   "mimetype": "text/x-python",
   "name": "python",
   "nbconvert_exporter": "python",
   "pygments_lexer": "ipython3",
   "version": "3.11.9"
  }
 },
 "nbformat": 4,
 "nbformat_minor": 5
}
